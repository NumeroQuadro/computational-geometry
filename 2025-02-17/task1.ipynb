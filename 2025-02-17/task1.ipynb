{
 "cells": [
  {
   "cell_type": "code",
   "execution_count": 2,
   "metadata": {},
   "outputs": [
    {
     "name": "stdout",
     "output_type": "stream",
     "text": [
      "Triangle(Point2D(0, 0), Point2D(3, 4), Point2D(-38/25, 41/25))\n"
     ]
    }
   ],
   "source": [
    "from sympy.geometry import *\n",
    "from sympy import Matrix, symbols, Rational\n",
    "\n",
    "P1 = Point(0, 0)\n",
    "P2 = Point(3, 4)\n",
    "P3 = Point(2, -1)\n",
    "P4 = Point(-1, 5)\n",
    "\n",
    "# S1 = Segment(P1, P2)\n",
    "# S2 = Segment(P3, P4)\n",
    "\n",
    "# Segment.angle_between(S1, S2)\n",
    "\n",
    "L1 = Line(P1, P2)\n",
    "L2 = Line(P2, P1)\n",
    "T = Triangle(P1, P2, P3)\n",
    "reflectedL1 = T.reflect(L1)\n",
    "reflectedL2 = T.reflect(L2)\n",
    "\n",
    "print(reflectedL1)\n",
    "# T.scale(9)\n",
    "# reflected_triangle = T.reflect(L1)\n",
    "\n",
    "# # Get the points of the reflected triangle\n",
    "# reflected_points = reflected_triangle.vertices\n",
    "\n",
    "# print(\"Reflected triangle points:\")\n",
    "# for point in reflected_points:\n",
    "#     print(point)"
   ]
  }
 ],
 "metadata": {
  "kernelspec": {
   "display_name": "Python 3",
   "language": "python",
   "name": "python3"
  },
  "language_info": {
   "codemirror_mode": {
    "name": "ipython",
    "version": 3
   },
   "file_extension": ".py",
   "mimetype": "text/x-python",
   "name": "python",
   "nbconvert_exporter": "python",
   "pygments_lexer": "ipython3",
   "version": "3.8.10"
  }
 },
 "nbformat": 4,
 "nbformat_minor": 2
}
